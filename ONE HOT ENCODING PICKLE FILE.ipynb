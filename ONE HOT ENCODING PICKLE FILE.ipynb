{
 "cells": [
  {
   "cell_type": "code",
   "execution_count": 1,
   "metadata": {
    "id": "Yt8N7nEBJJ0g"
   },
   "outputs": [],
   "source": [
    "import pandas as pd\n",
    "import numpy as np\n",
    "import matplotlib.pyplot as plt\n",
    "import seaborn as sns\n",
    "from sklearn.metrics import make_scorer, precision_score, f1_score"
   ]
  },
  {
   "cell_type": "code",
   "execution_count": 2,
   "metadata": {
    "id": "O1a2IHdoJNFi"
   },
   "outputs": [],
   "source": [
    "file_id = '1nCbwq2PktId7IlJmlR5kGn7vvpgiE8vW'\n",
    "file_url = f'https://drive.google.com/uc?id={file_id}'\n",
    "data = pd.read_csv(file_url)"
   ]
  },
  {
   "cell_type": "code",
   "execution_count": 3,
   "metadata": {
    "id": "0Fpy483OJQ8x"
   },
   "outputs": [],
   "source": [
    "data=data.drop('ID',axis=1)\n",
    "# Assuming 'data' is the DataFrame that contains both  lead_1_data and lead_0_data\n",
    "\n",
    "# Fill missing values in 'Credit_Product' column with 'Yes' where Lead is 1\n",
    "data.loc[data['Is_Lead']==1,'Credit_Product']=data.loc[data['Is_Lead'] == 1, 'Credit_Product'].fillna('Yes')\n",
    "\n",
    "# Fill missing values in 'Credit_Product' column with 'No' where Lead is 0\n",
    "data.loc[data['Is_Lead']==0,'Credit_Product']=data.loc[data['Is_Lead'] == 0, 'Credit_Product'].fillna('No')\n",
    "data['Region_Code'] = data['Region_Code'].str.replace('RG', '').astype(int)\n",
    "data['Channel_Code'] = data['Channel_Code'].str.replace('X', '').astype(int)\n"
   ]
  },
  {
   "cell_type": "code",
   "execution_count": 4,
   "metadata": {
    "id": "eG5nnGGGJkUH"
   },
   "outputs": [],
   "source": [
    "age_bins = [0, 30, 50, float('inf')]  # Customize the age bins as per your preference\n",
    "age_labels = ['Young', 'Middle-aged', 'Senior']\n",
    "\n",
    "# Create the 'Age_Group' column based on the age bins\n",
    "data['Age_Group'] = pd.cut(data['Age'], bins=age_bins, labels=age_labels, right=False)\n",
    "data.drop(columns=['Age'], inplace=True)"
   ]
  },
  {
   "cell_type": "code",
   "execution_count": 5,
   "metadata": {
    "id": "EDh8-RKwJuIg"
   },
   "outputs": [],
   "source": [
    "from sklearn.preprocessing import OneHotEncoder\n",
    "\n",
    "# Select the categorical columns to encode\n",
    "categorical_columns = ['Gender', 'Occupation', 'Is_Active', 'Credit_Product','Age_Group']\n",
    "\n",
    "# Create a OneHotEncoder instance\n",
    "encoder = OneHotEncoder(drop='first', sparse_output=False)\n",
    "\n",
    "# Fit and transform the encoder on the selected categorical columns\n",
    "encoded_columns = encoder.fit_transform(data[categorical_columns])\n",
    "\n",
    "# Create a DataFrame from the encoded_columns array with column names\n",
    "encoded_data = pd.DataFrame(encoded_columns, columns=encoder.get_feature_names_out(categorical_columns))\n",
    "\n",
    "# Drop the original categorical columns from 'data'\n",
    "data.drop(categorical_columns, axis=1, inplace=True)\n",
    "\n",
    "# Concatenate the original 'data' DataFrame with the encoded_data DataFrame\n",
    "data = pd.concat([data, encoded_data], axis=1)"
   ]
  },
  {
   "cell_type": "code",
   "execution_count": 6,
   "metadata": {
    "id": "ijud6Pr_J06P"
   },
   "outputs": [],
   "source": [
    "import pickle\n",
    "pickle.dump(encoder,open('encoder.pkl','wb'))"
   ]
  },
  {
   "cell_type": "code",
   "execution_count": null,
   "metadata": {
    "id": "-JJlHXf3KKf_"
   },
   "outputs": [],
   "source": []
  }
 ],
 "metadata": {
  "colab": {
   "provenance": []
  },
  "kernelspec": {
   "display_name": "Python 3 (ipykernel)",
   "language": "python",
   "name": "python3"
  },
  "language_info": {
   "codemirror_mode": {
    "name": "ipython",
    "version": 3
   },
   "file_extension": ".py",
   "mimetype": "text/x-python",
   "name": "python",
   "nbconvert_exporter": "python",
   "pygments_lexer": "ipython3",
   "version": "3.10.9"
  }
 },
 "nbformat": 4,
 "nbformat_minor": 1
}
